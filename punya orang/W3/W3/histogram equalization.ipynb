{
 "cells": [
  {
   "cell_type": "markdown",
   "id": "6899504d",
   "metadata": {},
   "source": [
    "Histogram equalization merupakan salah satu teknik untuk memperbaiki citra yang memiliki kontras rendah Ide dasarnya adalah semua piksel harus didistribusikan secara merata ke seluruh rentang nilai yang ada.\n",
    "\n",
    "Proses histogram equalization melibatkan analisis histogram saat ini dari citra dan kemudian mengubah intensitas piksel dalam citra untuk mencapai distribusi intensitas yang lebih merata. Ini dilakukan dengan menentukan fungsi transformasi yang akan digunakan untuk mengubah intensitas piksel dalam citra.\n",
    "\n",
    "Setelah transformasi dilakukan, histogram dari citra hasil akan memiliki distribusi yang lebih merata dibandingkan histogram sebelumnya. Hal ini dapat meningkatkan kontras citra dan membuat detail yang sebelumnya tersembunyi menjadi lebih terlihat.\n",
    "\n",
    "Histogram equalization sering digunakan dalam pemrosesan citra medis, citra satelit, dan citra industri. Namun, teknik ini juga memiliki beberapa keterbatasan seperti menyebabkan kerusakan pada warna atau tekstur dalam citra."
   ]
  },
  {
   "cell_type": "code",
   "execution_count": null,
   "id": "aa30ecd3",
   "metadata": {},
   "outputs": [],
   "source": []
  },
  {
   "cell_type": "code",
   "execution_count": null,
   "id": "a65917c6",
   "metadata": {},
   "outputs": [],
   "source": []
  }
 ],
 "metadata": {
  "kernelspec": {
   "display_name": "Python 3 (ipykernel)",
   "language": "python",
   "name": "python3"
  },
  "language_info": {
   "codemirror_mode": {
    "name": "ipython",
    "version": 3
   },
   "file_extension": ".py",
   "mimetype": "text/x-python",
   "name": "python",
   "nbconvert_exporter": "python",
   "pygments_lexer": "ipython3",
   "version": "3.9.7"
  }
 },
 "nbformat": 4,
 "nbformat_minor": 5
}
